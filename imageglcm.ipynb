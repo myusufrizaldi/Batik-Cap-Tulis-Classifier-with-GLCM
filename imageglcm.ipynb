{
 "cells": [
  {
   "cell_type": "code",
   "execution_count": 8,
   "metadata": {},
   "outputs": [],
   "source": [
    "#### Dependencies\n",
    "\n",
    "from PIL import Image\n",
    "from skimage.feature import greycomatrix, greycoprops\n",
    "\n",
    "import matplotlib.pyplot as plt\n"
   ]
  },
  {
   "cell_type": "code",
   "execution_count": 9,
   "metadata": {},
   "outputs": [],
   "source": [
    "#### Global variables\n",
    "\n",
    "map_8bit_to_3bit = [i // 32 for i in range(256)]\n"
   ]
  },
  {
   "cell_type": "code",
   "execution_count": 16,
   "metadata": {},
   "outputs": [],
   "source": [
    "#### Functions\n",
    "\n",
    "def load_img(img_path):\n",
    "    return Image.open(img_path).convert('L')\n",
    "\n",
    "def get_img_size(img):\n",
    "    return img.size\n",
    "\n",
    "def get_img_width(img):\n",
    "    return img.size[0]\n",
    "\n",
    "def get_img_height(img):\n",
    "    return img.size[1]\n",
    "\n",
    "def print_img(img):\n",
    "    plt.imshow(img, cmap='gray')\n",
    "    \n",
    "def get_resized_img(img, dimension):\n",
    "    return img.resize(dimension)\n",
    "\n",
    "def get_img_matrix(img, is_3bit_color=False):\n",
    "    img_width, img_height = get_img_size(img)\n",
    "    img_colors_list = list(img.getdata())\n",
    "    \n",
    "    color_id = 0\n",
    "    img_matrix = []\n",
    "    \n",
    "    if(is_3bit_color):\n",
    "        for row_id in range(img_height):\n",
    "            temp_row = []\n",
    "            for col_id in range(img_width):\n",
    "                temp_row.append(map_8bit_to_3bit[img_colors_list[color_id]])\n",
    "\n",
    "                color_id += 1\n",
    "            img_matrix.append(temp_row)\n",
    "    else:\n",
    "        for row_id in range(img_height):\n",
    "            temp_row = []\n",
    "            for col_id in range(img_width):\n",
    "                temp_row.append(img_colors_list[color_id])\n",
    "\n",
    "                color_id += 1\n",
    "            img_matrix.append(temp_row)\n",
    "            \n",
    "    return img_matrix\n",
    "    \n",
    "def get_img_features(img, glcm_components=['contrast', 'correlation', 'energy', 'homogeneity', 'ASM', 'dissimilarity'], distances=[1], angles=[0], levels=12, symmetric=False, normed=False):\n",
    "    img_matrix = get_img_matrix(img, is_3bit_color=True)\n",
    "    \n",
    "    glcm_matrix = greycomatrix(img_matrix, distances, angles, levels, symmetric, normed)\n",
    "    \n",
    "    img_features = []\n",
    "    for glcm_component in glcm_components:\n",
    "        img_features.append(greycoprops(glcm_matrix, glcm_component)[0][0])\n",
    "        \n",
    "    return tuple(img_features)\n"
   ]
  },
  {
   "cell_type": "code",
   "execution_count": null,
   "metadata": {},
   "outputs": [],
   "source": []
  }
 ],
 "metadata": {
  "kernelspec": {
   "display_name": "Python 3",
   "language": "python",
   "name": "python3"
  },
  "language_info": {
   "codemirror_mode": {
    "name": "ipython",
    "version": 3
   },
   "file_extension": ".py",
   "mimetype": "text/x-python",
   "name": "python",
   "nbconvert_exporter": "python",
   "pygments_lexer": "ipython3",
   "version": "3.7.4"
  }
 },
 "nbformat": 4,
 "nbformat_minor": 2
}
